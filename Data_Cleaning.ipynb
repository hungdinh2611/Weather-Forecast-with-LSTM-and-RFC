{
 "cells": [
  {
   "cell_type": "code",
   "execution_count": 1,
   "metadata": {},
   "outputs": [],
   "source": [
    "import pandas as pd"
   ]
  },
  {
   "cell_type": "code",
   "execution_count": 2,
   "metadata": {},
   "outputs": [],
   "source": [
    "hourly_dataframe = pd.read_csv(r\"C:\\Users\\Hello\\DS Project\\weather_data.csv\")"
   ]
  },
  {
   "cell_type": "code",
   "execution_count": 3,
   "metadata": {},
   "outputs": [],
   "source": [
    "hourly_dataframe['date'] = pd.to_datetime(hourly_dataframe['date'], utc=True)"
   ]
  },
  {
   "cell_type": "code",
   "execution_count": 4,
   "metadata": {},
   "outputs": [],
   "source": [
    "hourly_dataframe['date_only'] = hourly_dataframe['date'].dt.date  # Extract only the date part\n",
    "hourly_dataframe['hour'] = hourly_dataframe['date'].dt.hour  # Extract the hour"
   ]
  },
  {
   "cell_type": "code",
   "execution_count": 5,
   "metadata": {},
   "outputs": [],
   "source": [
    "hourly_dataframe = hourly_dataframe.drop(columns=['date'])"
   ]
  },
  {
   "cell_type": "code",
   "execution_count": 6,
   "metadata": {},
   "outputs": [],
   "source": [
    "def categorize_weather_code(code):\n",
    "    if pd.isna(code):\n",
    "        return \"Unknown\"\n",
    "    elif code == 0:  # Clear sky\n",
    "        return \"Clear\"\n",
    "    elif code in [1, 2, 3]:  # Mainly clear, partly cloudy, and overcast\n",
    "        return \"Cloudy\"\n",
    "    elif code in [45, 48]:  # Fog, depositing rime fog\n",
    "        return \"Foggy\"\n",
    "    elif code in [51, 53, 55]:  # Drizzle: Light, moderate, dense\n",
    "        return \"Drizzle\"\n",
    "    elif code in [56, 57]:  # Freezing Drizzle: Light, dense\n",
    "        return \"Freezing Drizzle\"\n",
    "    elif code in [61, 63, 65]:  # Rain: Slight, moderate, heavy\n",
    "        return \"Rainy\"\n",
    "    elif code in [66, 67]:  # Freezing Rain: Light, heavy\n",
    "        return \"Freezing Rain\"\n",
    "    elif code in [71, 73, 75]:  # Snowfall: Slight, moderate, heavy\n",
    "        return \"Snowy\"\n",
    "    elif code == 77:  # Snow grains\n",
    "        return \"Snow Grains\"\n",
    "    elif code in [80, 81, 82]:  # Rain showers: Slight, moderate, violent\n",
    "        return \"Rain Showers\"\n",
    "    elif code in [85, 86]:  # Snow showers: Slight, heavy\n",
    "        return \"Snow Showers\"\n",
    "    elif code == 95:  # Thunderstorm: Slight, moderate\n",
    "        return \"Thunderstorm\"\n",
    "    elif code in [96, 99]:  # Thunderstorm with hail\n",
    "        return \"Thunderstorm with Hail\"\n",
    "    else:\n",
    "        return \"Other\""
   ]
  },
  {
   "cell_type": "code",
   "execution_count": 7,
   "metadata": {},
   "outputs": [],
   "source": [
    "hourly_dataframe['weather_category'] = hourly_dataframe['weather_code'].apply(categorize_weather_code)"
   ]
  },
  {
   "cell_type": "code",
   "execution_count": 8,
   "metadata": {},
   "outputs": [],
   "source": [
    "hourly_dataframe.to_csv(r\"C:\\Users\\Hello\\DS Project\\Cleaned_dataset\\weather_data_with_hour.csv\", index=False)"
   ]
  },
  {
   "cell_type": "code",
   "execution_count": 9,
   "metadata": {},
   "outputs": [
    {
     "name": "stdout",
     "output_type": "stream",
     "text": [
      "   temperature_2m  relative_humidity_2m  rain  wind_speed_10m  weather_code  \\\n",
      "0            18.5                    95   0.0             8.0             3   \n",
      "1            19.5                    90   0.0             6.8             1   \n",
      "2            20.8                    79   0.0             6.2             1   \n",
      "3            22.2                    69   0.0             5.6             2   \n",
      "4            23.0                    65   0.0             8.0             3   \n",
      "\n",
      "    date_only  hour weather_category  \n",
      "0  2020-01-01     0           Cloudy  \n",
      "1  2020-01-01     1           Cloudy  \n",
      "2  2020-01-01     2           Cloudy  \n",
      "3  2020-01-01     3           Cloudy  \n",
      "4  2020-01-01     4           Cloudy  \n"
     ]
    }
   ],
   "source": [
    "print(hourly_dataframe.head())"
   ]
  }
 ],
 "metadata": {
  "kernelspec": {
   "display_name": "Python 3",
   "language": "python",
   "name": "python3"
  },
  "language_info": {
   "codemirror_mode": {
    "name": "ipython",
    "version": 3
   },
   "file_extension": ".py",
   "mimetype": "text/x-python",
   "name": "python",
   "nbconvert_exporter": "python",
   "pygments_lexer": "ipython3",
   "version": "3.10.5"
  }
 },
 "nbformat": 4,
 "nbformat_minor": 2
}
